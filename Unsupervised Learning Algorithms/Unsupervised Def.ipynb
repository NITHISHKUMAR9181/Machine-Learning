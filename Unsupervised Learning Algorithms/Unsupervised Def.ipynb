{
 "cells": [
  {
   "cell_type": "markdown",
   "metadata": {},
   "source": [
    "<center><h1> Unsupervised Learning<h1> <center>"
   ]
  },
  {
   "cell_type": "markdown",
   "metadata": {},
   "source": [
    "<pre> What is Meant By Unsupervised Learning ?\n",
    "\n",
    "      Unsupervised learning is a type of machine learning algorithm used to draw inferences from datasets consisting of input data without labeled responses. The most common unsupervised learning method is cluster analysis, which is used for exploratory data analysis to find hidden patterns or grouping in data.\n",
    "       \n",
    "              --Or-- <pre>"
   ]
  },
  {
   "cell_type": "markdown",
   "metadata": {},
   "source": [
    "<pre> No labels are given to the learning algorithm, leaving it on its own to find structure in its input. Unsupervised learning can be a goal in itself (discovering hidden patterns in data) or a means towards an end (feature learning).</pre>"
   ]
  },
  {
   "cell_type": "markdown",
   "metadata": {},
   "source": [
    "<pre><h3>Examples of the Unsupervised Learning :</h3>\n",
    "    \n",
    "    Some popular examples of unsupervised learning algorithms are: k-means for clustering problems. Apriori algorithm for association rule learning problems.\n",
    "    \n",
    "  <h3>  Where is unsupervised learning used? </h3>\n",
    "  \n",
    "Some applications of unsupervised machine learning techniques are: Clustering automatically split the dataset into groups base on their similarities. Anomaly detection can discover unusual data points in your dataset. It is useful for finding fraudulent transactions.\n",
    "        </pre>"
   ]
  },
  {
   "cell_type": "markdown",
   "metadata": {},
   "source": [
    "<h3>Diagrams on the Unsupervised Learning:</h3>\n",
    "    \n",
    "<img src =\"https://lh3.googleusercontent.com/DS4BHTkXT_9FzxuOd67PNjJT-o87kdtvP42wq_JUzQz8oWhzOOxWKu0CAkTSzBzyLKrYNWAF8dAY6FUSgjLJFBBrMjHz_cdk9-i0QhAOnIdo8Nq3192BdGxlEUwRRpCzkp_iBiIK\" height=\"600\" width=\"600\">"
   ]
  },
  {
   "cell_type": "markdown",
   "metadata": {},
   "source": [
    "<img src =\"https://storage.ning.com/topology/rest/1.0/file/get/2808357319?profile=RESIZE_1024x1024\">"
   ]
  },
  {
   "cell_type": "markdown",
   "metadata": {},
   "source": [
    "<pre> \n",
    "1.Clustering\n",
    "        hierarchical clustering,[4]\n",
    "        k-means[5]\n",
    "        mixture models\n",
    "        DBSCAN\n",
    "        OPTICS algorithm\n",
    "2.Anomaly detection\n",
    "    Local Outlier Factor\n",
    "\n",
    "3.Neural Networks\n",
    "    Autoencoders\n",
    "    Deep Belief Nets\n",
    "    Hebbian Learning\n",
    "    Generative adversarial networks\n",
    "    Self-organizing map\n",
    "    \n",
    "Approaches for learning latent variable models such as\n",
    "    Expectation–maximization algorithm (EM)\n",
    "    Method of moments\n",
    "    Blind signal separation techniques\n",
    "        Principal component analysis\n",
    "        Independent component analysis\n",
    "        Non-negative matrix factorization\n",
    "        Singular value decomposition\n",
    "<pre>"
   ]
  },
  {
   "cell_type": "markdown",
   "metadata": {},
   "source": [
    "<pre> Clustering : The Clustering is NOthing But Grouping.Here We have 3 different Species we have But Here There is NO Target Variable in the Unsupervised Learning .According to the Features and with the Measurement Values.The data is Grouped into 3 Groups. <pre>"
   ]
  },
  {
   "cell_type": "markdown",
   "metadata": {},
   "source": [
    "<h1><center>K-Means CLustering Algorithm :</center></h1>"
   ]
  },
  {
   "cell_type": "markdown",
   "metadata": {},
   "source": [
    "<pre>K-means clustering is one of the simplest and popular unsupervised machine learning algorithms.\n",
    "Typically, unsupervised algorithms make inferences from datasets using only input vectors without referring to known, or labelled, outcomes.</pre>"
   ]
  },
  {
   "cell_type": "code",
   "execution_count": null,
   "metadata": {},
   "outputs": [],
   "source": []
  }
 ],
 "metadata": {
  "kernelspec": {
   "display_name": "Python 3",
   "language": "python",
   "name": "python3"
  },
  "language_info": {
   "codemirror_mode": {
    "name": "ipython",
    "version": 3
   },
   "file_extension": ".py",
   "mimetype": "text/x-python",
   "name": "python",
   "nbconvert_exporter": "python",
   "pygments_lexer": "ipython3",
   "version": "3.7.6"
  }
 },
 "nbformat": 4,
 "nbformat_minor": 4
}
